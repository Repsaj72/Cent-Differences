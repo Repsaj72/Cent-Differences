{
  "nbformat": 4,
  "nbformat_minor": 0,
  "metadata": {
    "colab": {
      "provenance": [],
      "name": "Cent Differences.ipynb"
    },
    "kernelspec": {
      "name": "python3",
      "display_name": "Python 3"
    },
    "language_info": {
      "name": "python"
    }
  },
  "cells": [
    {
      "cell_type": "code",
      "execution_count": null,
      "metadata": {
        "id": "qRGoNnZHfHOS"
      },
      "outputs": [],
      "source": [
        "import numpy as np\n",
        "import matplotlib.pyplot as plt\n",
        "import sys"
      ]
    },
    {
      "cell_type": "markdown",
      "source": [
        "As a musician, I am very curious to see how \"just\" notes differ from the tempered tuning or even how they differ in other keys. \"Perfect\" or \"just\" notes have a frequency related to an exact ratio of the given key, so an A note in the key of A can be a very different note from an A note in the key of C. To avoid having to retune for every key, most people use tempered tuning, which means every note is equally out of tune in all keys. The expression for this tuning is a frequency ratio of the twelfth root of 2. This code walks you through a comparison between the frequency of notes compared to tempered tuning or other keys."
      ],
      "metadata": {
        "id": "eF7QJlbW3WLz"
      }
    },
    {
      "cell_type": "code",
      "source": [
        "#'M' means Major, and 'm' refers to minor notes in the scale.\n",
        "Ms=['M1','m2','M2','m3','M3','M4','m5','M5','m6','M6','m7','M7']\n",
        "R1 = [1, 25/24, 9/8, 6/5, 5/4, 4/3, 45/32, 3/2, 8/5, 5/3, 9/5, 15/8]\n",
        "#These ratios are taken from https://pages.mtu.edu/~suits/scales.html\n",
        "\n",
        "L=[]\n",
        "L.extend([list(i) for i in zip(Ms,R1)])\n",
        "#Put these together in 2 octaves\n",
        "Ms2 = ['2'+str(x) for x in Ms]\n",
        "R2 = [x*2 for x in R1]\n",
        "L2=[]\n",
        "L2.extend([list(i) for i in zip(Ms2,R2)])\n",
        "L.extend(L2)\n",
        "\n",
        "def create_dict(list1):\n",
        "  dict1 = {}\n",
        "  for i in range(len(list1)):\n",
        "    if list1[i][0] in dict1:\n",
        "      dict1[list1[i][0]].append(list1[i][1])\n",
        "    else:\n",
        "      dict1[list1[i][0]] = []\n",
        "      dict1[list1[i][0]].append(list1[i][1])\n",
        "  return dict1\n",
        "\n",
        "#Creating dictionary relating the scale note to the proper fraction.\n",
        "justNotes_dict=create_dict(L)\n",
        "\n",
        "print('Sharps or Flats? (Default is Flats)')\n",
        "#Clarifying terminology. Will default to using only flat notes, but can use sharps if prefered.\n",
        "SoF = input()\n",
        "\n",
        "Sharp = 'Sharps'\n",
        "\n",
        "if SoF == Sharp:\n",
        "  notesF = ['A', 'A#', 'B', 'C', 'C#', 'D', 'D#', 'E', 'F', 'F#', 'G', 'G#','2A', '2A#', '2B', '2C', '2C#', '2D', '2D#', '2E', '2F', '2F#', '2G', '2G#']\n",
        "else: #These are the notes (in Hz) in tempered tuning. Equally off in all keys.\n",
        "  notesF = ['A', 'Bb', 'B', 'C', 'Db', 'D', 'Eb', 'E', 'F', 'Gb', 'G','Ab','2A', '2Bb', '2B', '2C', '2Db', '2D', '2Eb', '2E', '2F', '2Gb', '2G','2Ab']\n",
        "#Make list with frequencies for each written note\n",
        "f = []\n",
        "for i in range(len(notesF)):\n",
        "  newnote=440*2**(i/12)\n",
        "  f.append(newnote)\n",
        "\n",
        "#put them into one nested list\n",
        "notes = []\n",
        "notes.extend([list(i) for i in zip(notesF,f)])\n",
        "\n",
        "noteFreqs = {}\n",
        "#Creating dictionary relating specific notes to their tempered frequency.\n",
        "noteFreqs = create_dict(notes)"
      ],
      "metadata": {
        "colab": {
          "base_uri": "https://localhost:8080/"
        },
        "id": "yPOrBgksnImk",
        "outputId": "9c958634-d0ad-4a5d-cf7a-9fb23a1a6045"
      },
      "execution_count": null,
      "outputs": [
        {
          "name": "stdout",
          "output_type": "stream",
          "text": [
            "Sharps or Flats? (Default is Flats)\n",
            "Flats\n"
          ]
        }
      ]
    },
    {
      "cell_type": "markdown",
      "source": [
        "Choose first key and an interval to see the frequency and how different it is from tempered tuning."
      ],
      "metadata": {
        "id": "nZ-7ypU6xmmE"
      }
    },
    {
      "cell_type": "code",
      "source": [
        "print(\"Enter First Key\")\n",
        "key1 = input()\n",
        "baseFreq1 = noteFreqs[key1] #Finding the base frequency of the next key\n",
        "\n",
        "print('Input Scale Note')\n",
        "scale_note1 = input()\n",
        "\n",
        "\n",
        "for x in range(len(notesF)):\n",
        "  if key1 == notesF[x]: #Finding the note\n",
        "    adj=x #going to need to adjust a future list to find the scale note\n",
        "\n",
        "check = True\n",
        "for i in range(len(L)):\n",
        "  if scale_note1 == L[i][0]: #Finding the corresponding fraction to the scale note\n",
        "    check = False\n",
        "    Value1 = justNotes_dict[L[i][0]]\n",
        "    justFraction1 = baseFreq1*np.array(Value1)\n",
        "    Note1 = notes[i+adj][0] #This is the list that needs adjustment\n",
        "    temperedVal = notes[i+adj][1] #Finding what frequency the note is in tempered tuning\n",
        "    d=i\n",
        "if check == True:\n",
        "  print('Not a valid input')\n",
        "  sys.exit()\n",
        "\n",
        "print(\"Base Frequency = %s Hz\"%baseFreq1)\n",
        "\n",
        "print(\"%s of %s (%s) = %f Hz\"%(scale_note1, key1, Note1, justFraction1))\n",
        "\n",
        "Dif = abs(temperedVal-justFraction1)\n",
        "print('Frequency difference between tempered %s and just %s in the key of %s: %f Hz'%(Note1,Note1,key1,Dif))"
      ],
      "metadata": {
        "colab": {
          "base_uri": "https://localhost:8080/"
        },
        "id": "H4oC25nlxite",
        "outputId": "4fbb6714-373e-4e08-eb99-3620a0591e43"
      },
      "execution_count": null,
      "outputs": [
        {
          "output_type": "stream",
          "name": "stdout",
          "text": [
            "Enter First Key\n",
            "G\n",
            "Input Scale Note\n",
            "M5\n",
            "Base Frequency = [783.9908719634985] Hz\n",
            "M5 of G (2D) = 1175.986308 Hz\n",
            "Frequency difference between tempered 2D and just 2D in the key of G: 1.327236 Hz\n"
          ]
        }
      ]
    },
    {
      "cell_type": "code",
      "source": [
        "print(\"Enter Second Key\")\n",
        "key2 = input()\n",
        "\n",
        "for i in range(len(notes)): #Finding the base frequency of the next key\n",
        "  if key2 == notes[i][0]:\n",
        "    baseFreq2 = notes[i][1]\n",
        "\n",
        "for x in range(len(notesF)):\n",
        "  if key2 == notesF[x]: #Finding the key\n",
        "    adj2=x\n",
        "\n",
        "key_dif = adj-adj2 #Difference in keys\n",
        "\n",
        "scale_note2 = L[d+key_dif][0] #The scale note relative to new key\n",
        "\n",
        "for i in range(len(L)):\n",
        "  if scale_note2 == L[i][0]:\n",
        "    Val2 = L[i][1] #The ratio of the new scale note\n",
        "justFraction2 = baseFreq2*Val2\n",
        "\n",
        "print('scale note of %s in the key of %s : %s'%(Note1,key2,scale_note2))\n",
        "\n",
        "print(\"Base Frequency = %s Hz\"%baseFreq2)\n",
        "\n",
        "print(\"Frequency of %s in the key of %s : %f Hz\"%(Note1, key2, justFraction2))\n",
        "\n",
        "Dif = abs(temperedVal-justFraction2)\n",
        "print('Frequency difference between tempered %s and just %s in the key of %s: %f Hz'%(Note1,Note1,key1,Dif))"
      ],
      "metadata": {
        "colab": {
          "base_uri": "https://localhost:8080/"
        },
        "id": "VzGiD0hwzF3C",
        "outputId": "4b314ac0-0cc5-4f49-c50e-6fd1ac0bc6f7"
      },
      "execution_count": null,
      "outputs": [
        {
          "output_type": "stream",
          "name": "stdout",
          "text": [
            "Enter Second Key\n",
            "B\n",
            "scale note of 2D in the key of B : 2m3\n",
            "Base Frequency = 493.8833012561241 Hz\n",
            "Frequency of 2D in the key of B : 1185.319923 Hz\n",
            "Frequency difference between tempered 2D and just 2D in the key of G: 10.660851 Hz\n"
          ]
        }
      ]
    },
    {
      "cell_type": "markdown",
      "source": [
        "Cent Comparison"
      ],
      "metadata": {
        "id": "n0sAiW_m03BW"
      }
    },
    {
      "cell_type": "code",
      "source": [
        "s='cents sharper than'\n",
        "f='cents flater than'\n",
        "n='the same frequncy as'\n",
        "c = 1200 * np.log2(justFraction2/justFraction1) #formula for converting frequency to cents\n",
        "if c<0:\n",
        "  b=s\n",
        "elif c>0:\n",
        "  b=f\n",
        "else:\n",
        "  b=n\n",
        "dif=abs(c)\n",
        "print('%s in the key of %s is %f %s %s in the key of %s.'%(Note1,key1,dif,b,Note1,key2))"
      ],
      "metadata": {
        "colab": {
          "base_uri": "https://localhost:8080/"
        },
        "id": "DrFGmUzD02W5",
        "outputId": "f71ceadd-251d-4c55-f9bf-e5981a4a15aa"
      },
      "execution_count": null,
      "outputs": [
        {
          "output_type": "stream",
          "name": "stdout",
          "text": [
            "2D in the key of G is 13.686286 cents flater than 2D in the key of B.\n"
          ]
        }
      ]
    }
  ]
}